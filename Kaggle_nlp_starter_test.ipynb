{
 "cells": [
  {
   "cell_type": "code",
   "execution_count": 6,
   "metadata": {},
   "outputs": [],
   "source": [
    "#import libraries\n",
    "\n",
    "import pandas as pd\n",
    "from nltk.tokenize import word_tokenize\n",
    "from nltk.corpus import stopwords\n",
    "from nltk.stem import WordNetLemmatizer"
   ]
  },
  {
   "cell_type": "code",
   "execution_count": 7,
   "metadata": {},
   "outputs": [
    {
     "name": "stderr",
     "output_type": "stream",
     "text": [
      "C:\\ProgramData\\Anaconda3\\lib\\site-packages\\gensim\\utils.py:1212: UserWarning: detected Windows; aliasing chunkize to chunkize_serial\n",
      "  warnings.warn(\"detected Windows; aliasing chunkize to chunkize_serial\")\n"
     ]
    }
   ],
   "source": [
    "#library to create a dictionaty\n",
    "import gensim\n",
    "from gensim.corpora.dictionary import Dictionary\n",
    "from gensim.models.tfidfmodel import TfidfModel\n",
    "import re"
   ]
  },
  {
   "cell_type": "code",
   "execution_count": 8,
   "metadata": {},
   "outputs": [],
   "source": [
    "from collections import defaultdict\n",
    "import itertools"
   ]
  },
  {
   "cell_type": "code",
   "execution_count": 9,
   "metadata": {},
   "outputs": [],
   "source": [
    "#import training data\n",
    "\n",
    "df = pd.read_csv(\"C:/Users/270168/Downloads/personal/nlp-starter-test/social_media_clean_text.csv\")"
   ]
  },
  {
   "cell_type": "code",
   "execution_count": 10,
   "metadata": {},
   "outputs": [
    {
     "data": {
      "text/html": [
       "<div>\n",
       "<style scoped>\n",
       "    .dataframe tbody tr th:only-of-type {\n",
       "        vertical-align: middle;\n",
       "    }\n",
       "\n",
       "    .dataframe tbody tr th {\n",
       "        vertical-align: top;\n",
       "    }\n",
       "\n",
       "    .dataframe thead th {\n",
       "        text-align: right;\n",
       "    }\n",
       "</style>\n",
       "<table border=\"1\" class=\"dataframe\">\n",
       "  <thead>\n",
       "    <tr style=\"text-align: right;\">\n",
       "      <th></th>\n",
       "      <th>text</th>\n",
       "      <th>choose_one</th>\n",
       "      <th>class_label</th>\n",
       "    </tr>\n",
       "  </thead>\n",
       "  <tbody>\n",
       "    <tr>\n",
       "      <th>0</th>\n",
       "      <td>just happened a terrible car crash</td>\n",
       "      <td>Relevant</td>\n",
       "      <td>1</td>\n",
       "    </tr>\n",
       "    <tr>\n",
       "      <th>1</th>\n",
       "      <td>our deeds are the reason of this  earthquake m...</td>\n",
       "      <td>Relevant</td>\n",
       "      <td>1</td>\n",
       "    </tr>\n",
       "    <tr>\n",
       "      <th>2</th>\n",
       "      <td>heard about  earthquake is different cities, s...</td>\n",
       "      <td>Relevant</td>\n",
       "      <td>1</td>\n",
       "    </tr>\n",
       "    <tr>\n",
       "      <th>3</th>\n",
       "      <td>there is a forest fire at spot pond, geese are...</td>\n",
       "      <td>Relevant</td>\n",
       "      <td>1</td>\n",
       "    </tr>\n",
       "    <tr>\n",
       "      <th>4</th>\n",
       "      <td>forest fire near la ronge sask  canada</td>\n",
       "      <td>Relevant</td>\n",
       "      <td>1</td>\n",
       "    </tr>\n",
       "  </tbody>\n",
       "</table>\n",
       "</div>"
      ],
      "text/plain": [
       "                                                text choose_one  class_label\n",
       "0                 just happened a terrible car crash   Relevant            1\n",
       "1  our deeds are the reason of this  earthquake m...   Relevant            1\n",
       "2  heard about  earthquake is different cities, s...   Relevant            1\n",
       "3  there is a forest fire at spot pond, geese are...   Relevant            1\n",
       "4             forest fire near la ronge sask  canada   Relevant            1"
      ]
     },
     "execution_count": 10,
     "metadata": {},
     "output_type": "execute_result"
    }
   ],
   "source": [
    "#check the data set\n",
    "\n",
    "df.head()"
   ]
  },
  {
   "cell_type": "code",
   "execution_count": 11,
   "metadata": {},
   "outputs": [],
   "source": [
    "#separate text column for preprocessing\n",
    "\n",
    "df[\"processed_text\"] = df.iloc[:,0]"
   ]
  },
  {
   "cell_type": "code",
   "execution_count": 12,
   "metadata": {},
   "outputs": [],
   "source": [
    "def process (G):\n",
    "    tok = G.split(\" \")\n",
    "    stop_words = stopwords.words('english')\n",
    "    no_tok = [t for t in tok if t not in stop_words]\n",
    "    filtered_tok = [tok1 for tok1 in no_tok if re.search('[a-zA-Z]', tok1)]\n",
    "    word_lemmat = WordNetLemmatizer()\n",
    "    lemmat_words = [word_lemmat.lemmatize(t) for t in filtered_tok]\n",
    "    return lemmat_words"
   ]
  },
  {
   "cell_type": "code",
   "execution_count": 13,
   "metadata": {
    "scrolled": true
   },
   "outputs": [],
   "source": [
    "df[\"processed_text\"] = df[\"processed_text\"].apply(process)"
   ]
  },
  {
   "cell_type": "code",
   "execution_count": 14,
   "metadata": {},
   "outputs": [],
   "source": [
    "data_text = df[\"processed_text\"].values.tolist()"
   ]
  },
  {
   "cell_type": "code",
   "execution_count": 15,
   "metadata": {},
   "outputs": [],
   "source": [
    "dictionary = Dictionary(df[\"processed_text\"])"
   ]
  },
  {
   "cell_type": "code",
   "execution_count": 16,
   "metadata": {},
   "outputs": [
    {
     "data": {
      "text/plain": [
       "72"
      ]
     },
     "execution_count": 16,
     "metadata": {},
     "output_type": "execute_result"
    }
   ],
   "source": [
    "dictionary.token2id.get(\"flood\")"
   ]
  },
  {
   "cell_type": "code",
   "execution_count": 17,
   "metadata": {},
   "outputs": [],
   "source": [
    "corpus = [dictionary.doc2bow(t) for t in data_text]"
   ]
  },
  {
   "cell_type": "code",
   "execution_count": 18,
   "metadata": {},
   "outputs": [],
   "source": [
    "gross_count = defaultdict(int)\n",
    "for word_id, word_count in itertools.chain.from_iterable(corpus):\n",
    "    gross_count[word_id] += word_count"
   ]
  },
  {
   "cell_type": "code",
   "execution_count": 19,
   "metadata": {},
   "outputs": [],
   "source": [
    "sorted_gross_count = sorted(gross_count.items(), key=lambda w: w[1], reverse=True)"
   ]
  },
  {
   "cell_type": "code",
   "execution_count": 20,
   "metadata": {},
   "outputs": [
    {
     "name": "stdout",
     "output_type": "stream",
     "text": [
      "fire 443\n",
      "amp 442\n",
      "like 436\n",
      "i'm 309\n",
      "u 307\n",
      "get 303\n",
      "new 268\n",
      "one 253\n",
      "people 245\n",
      "via 235\n"
     ]
    }
   ],
   "source": [
    "#print top 10 words\n",
    "\n",
    "for word_id, word_count in sorted_gross_count[:10]:\n",
    "    print(dictionary.get(word_id), word_count)"
   ]
  },
  {
   "cell_type": "code",
   "execution_count": 21,
   "metadata": {},
   "outputs": [],
   "source": [
    "#create tfidf model\n",
    "\n",
    "tfidf = TfidfModel(corpus)\n"
   ]
  },
  {
   "cell_type": "code",
   "execution_count": 22,
   "metadata": {},
   "outputs": [
    {
     "data": {
      "text/plain": [
       "ValuesView(<gensim.corpora.dictionary.Dictionary object at 0x000002B68B9FF048>)"
      ]
     },
     "execution_count": 22,
     "metadata": {},
     "output_type": "execute_result"
    }
   ],
   "source": [
    "dictionary.values()"
   ]
  },
  {
   "cell_type": "code",
   "execution_count": 23,
   "metadata": {},
   "outputs": [],
   "source": [
    "from sklearn import feature_extraction"
   ]
  },
  {
   "cell_type": "code",
   "execution_count": 24,
   "metadata": {},
   "outputs": [],
   "source": [
    "from sklearn.feature_extraction.text import TfidfVectorizer"
   ]
  },
  {
   "cell_type": "code",
   "execution_count": 25,
   "metadata": {},
   "outputs": [],
   "source": [
    "tfidf_vectorizer = TfidfVectorizer(max_df=0.8, max_features=200000, min_df=0.01, use_idf=True, tokenizer=process, ngram_range=(1,3))"
   ]
  },
  {
   "cell_type": "code",
   "execution_count": 26,
   "metadata": {},
   "outputs": [],
   "source": [
    "tfidf_matrix = tfidf_vectorizer.fit_transform(df[\"text\"])"
   ]
  },
  {
   "cell_type": "code",
   "execution_count": 27,
   "metadata": {},
   "outputs": [
    {
     "name": "stdout",
     "output_type": "stream",
     "text": [
      "(9282, 78)\n"
     ]
    }
   ],
   "source": [
    "print(tfidf_matrix.shape)"
   ]
  },
  {
   "cell_type": "code",
   "execution_count": 28,
   "metadata": {},
   "outputs": [],
   "source": [
    "terms = tfidf_vectorizer.get_feature_names()"
   ]
  },
  {
   "cell_type": "code",
   "execution_count": 29,
   "metadata": {},
   "outputs": [
    {
     "name": "stdout",
     "output_type": "stream",
     "text": [
      "['accident', 'amp', 'attack', 'back', 'body', 'bomb', 'building', 'burning', 'california', \"can't\", 'car', 'collapse', 'could', 'crash', 'day', 'dead', 'death', 'disaster', 'emergency', 'even', 'fire', 'first', 'flood', 'full', 'get', 'go', 'going', 'good', 'got', 'hiroshima', 'home', 'house', \"i'm\", 'injury', 'killed', 'know', 'last', 'life', 'like', 'look', 'love', 'make', 'man', 'mass', 'need', 'never', 'new', 'news', 'nuclear', 'one', 'people', 'police', 'right', 'rt', 'say', 'see', 'service', 'still', 'storm', 'suicide', 'take', 'think', 'time', 'today', 'train', 'two', 'u', 'via', 'video', 'w', 'want', 'war', 'way', 'weapon', 'woman', 'world', 'would', 'year']\n"
     ]
    }
   ],
   "source": [
    "print(terms)"
   ]
  },
  {
   "cell_type": "code",
   "execution_count": 30,
   "metadata": {},
   "outputs": [],
   "source": [
    "#K Means Cluster\n",
    "\n",
    "from sklearn.cluster import KMeans\n",
    "n_cluster = 5\n",
    "km = KMeans(n_clusters=n_cluster)\n",
    "km.fit(tfidf_matrix)\n",
    "clusters = km.labels_.tolist()"
   ]
  },
  {
   "cell_type": "code",
   "execution_count": 31,
   "metadata": {},
   "outputs": [],
   "source": [
    "df['cluster'] = clusters"
   ]
  },
  {
   "cell_type": "code",
   "execution_count": 32,
   "metadata": {},
   "outputs": [
    {
     "data": {
      "text/plain": [
       "0    8192\n",
       "1     376\n",
       "4     274\n",
       "3     220\n",
       "2     220\n",
       "Name: cluster, dtype: int64"
      ]
     },
     "execution_count": 32,
     "metadata": {},
     "output_type": "execute_result"
    }
   ],
   "source": [
    "df['cluster'].value_counts()"
   ]
  },
  {
   "cell_type": "code",
   "execution_count": 33,
   "metadata": {},
   "outputs": [],
   "source": [
    "order_centroids = km.cluster_centers_.argsort()[:, ::-1]\n",
    "\n"
   ]
  },
  {
   "cell_type": "code",
   "execution_count": 34,
   "metadata": {},
   "outputs": [],
   "source": [
    "from sklearn.decomposition import LatentDirichletAllocation"
   ]
  },
  {
   "cell_type": "code",
   "execution_count": 35,
   "metadata": {},
   "outputs": [],
   "source": [
    "lda_model = LatentDirichletAllocation(n_components=2, max_iter=10, learning_method='online',learning_offset=50).fit(tfidf_matrix)"
   ]
  },
  {
   "cell_type": "code",
   "execution_count": 36,
   "metadata": {},
   "outputs": [],
   "source": [
    "import pyLDAvis.sklearn\n",
    "pyLDAvis.enable_notebook()"
   ]
  },
  {
   "cell_type": "code",
   "execution_count": 37,
   "metadata": {},
   "outputs": [
    {
     "name": "stderr",
     "output_type": "stream",
     "text": [
      "C:\\ProgramData\\Anaconda3\\lib\\site-packages\\numexpr\\cpuinfo.py:109: DeprecationWarning: invalid escape sequence \\d\n",
      "  nbits = re.compile('(\\d+)bit').search(abits).group(1)\n",
      "C:\\ProgramData\\Anaconda3\\lib\\site-packages\\numexpr\\cpuinfo.py:662: DeprecationWarning: invalid escape sequence \\s\n",
      "  \"\\s+stepping\\s+(?P<STP>\\d+)\", re.IGNORECASE)\n"
     ]
    },
    {
     "data": {
      "text/html": [
       "\n",
       "<link rel=\"stylesheet\" type=\"text/css\" href=\"https://cdn.rawgit.com/bmabey/pyLDAvis/files/ldavis.v1.0.0.css\">\n",
       "\n",
       "\n",
       "<div id=\"ldavis_el12367629832040863126540175408\"></div>\n",
       "<script type=\"text/javascript\">\n",
       "\n",
       "var ldavis_el12367629832040863126540175408_data = {\"mdsDat\": {\"Freq\": [51.403489531364144, 48.59651046863585], \"cluster\": [1, 1], \"topics\": [1, 2], \"x\": [0.32908844029883394, -0.32908844029883394], \"y\": [0.0, 0.0]}, \"tinfo\": {\"Category\": [\"Default\", \"Default\", \"Default\", \"Default\", \"Default\", \"Default\", \"Default\", \"Default\", \"Default\", \"Default\", \"Default\", \"Default\", \"Default\", \"Default\", \"Default\", \"Default\", \"Default\", \"Default\", \"Default\", \"Default\", \"Default\", \"Default\", \"Default\", \"Default\", \"Default\", \"Default\", \"Default\", \"Default\", \"Default\", \"Default\", \"Topic1\", \"Topic1\", \"Topic1\", \"Topic1\", \"Topic1\", \"Topic1\", \"Topic1\", \"Topic1\", \"Topic1\", \"Topic1\", \"Topic1\", \"Topic1\", \"Topic1\", \"Topic1\", \"Topic1\", \"Topic1\", \"Topic1\", \"Topic1\", \"Topic1\", \"Topic1\", \"Topic1\", \"Topic1\", \"Topic1\", \"Topic1\", \"Topic1\", \"Topic1\", \"Topic1\", \"Topic1\", \"Topic1\", \"Topic1\", \"Topic1\", \"Topic2\", \"Topic2\", \"Topic2\", \"Topic2\", \"Topic2\", \"Topic2\", \"Topic2\", \"Topic2\", \"Topic2\", \"Topic2\", \"Topic2\", \"Topic2\", \"Topic2\", \"Topic2\", \"Topic2\", \"Topic2\", \"Topic2\", \"Topic2\", \"Topic2\", \"Topic2\", \"Topic2\", \"Topic2\", \"Topic2\", \"Topic2\", \"Topic2\", \"Topic2\", \"Topic2\", \"Topic2\", \"Topic2\", \"Topic2\", \"Topic2\"], \"Freq\": [283.0, 273.0, 245.0, 205.0, 191.0, 172.0, 165.0, 175.0, 175.0, 172.0, 146.0, 145.0, 152.0, 122.0, 119.0, 116.0, 126.0, 126.0, 113.0, 111.0, 109.0, 118.0, 110.0, 110.0, 99.0, 98.0, 98.0, 107.0, 97.0, 95.0, 244.77250089461324, 171.77512154253031, 190.7418708579618, 175.1700375617116, 174.67853782366834, 151.60257868106194, 125.77204870420525, 118.20111944113619, 126.20189024706704, 110.24005963107905, 101.7450798858038, 94.84126707400733, 109.8636927711028, 102.39958608245365, 97.71421958522116, 97.69620004537038, 98.57359263462833, 91.17620852901995, 93.44044255718174, 87.88388439662381, 95.6550929506972, 106.94525089152769, 80.23683098983989, 81.03929007571348, 88.89410781998642, 84.8848750268076, 75.47011412365264, 84.7691730828289, 77.68130008626564, 83.20665144131436, 78.03468384997777, 282.5181458583064, 272.88765505094375, 204.83766823768804, 172.11074612907802, 164.67598286847925, 145.09698552331525, 145.82853170044248, 121.57204623375083, 115.65562541013095, 119.04042053554096, 112.48222198038933, 110.54504955699583, 108.74737836420825, 95.08230820709102, 97.77903739133995, 99.38137239718306, 92.40073583623828, 93.70878949936682, 97.46392380244778, 96.76634138554735, 84.11931644262465, 86.7752831253139, 86.68210006692235, 83.58720864583117, 80.23326219289513, 75.51680837768362, 92.4236664497534, 79.70627070639482, 87.52796619899979, 83.10985255825314, 78.32740674285533], \"Term\": [\"fire\", \"like\", \"amp\", \"get\", \"i'm\", \"news\", \"one\", \"new\", \"u\", \"via\", \"storm\", \"video\", \"people\", \"would\", \"year\", \"home\", \"time\", \"emergency\", \"go\", \"rt\", \"disaster\", \"suicide\", \"police\", \"say\", \"got\", \"love\", \"nuclear\", \"day\", \"first\", \"california\", \"amp\", \"via\", \"i'm\", \"new\", \"u\", \"people\", \"emergency\", \"suicide\", \"time\", \"police\", \"crash\", \"attack\", \"say\", \"make\", \"world\", \"life\", \"see\", \"death\", \"body\", \"take\", \"still\", \"day\", \"bomb\", \"woman\", \"going\", \"weapon\", \"dead\", \"car\", \"train\", \"think\", \"mass\", \"fire\", \"like\", \"get\", \"news\", \"one\", \"video\", \"storm\", \"would\", \"home\", \"year\", \"go\", \"rt\", \"disaster\", \"california\", \"love\", \"got\", \"back\", \"look\", \"nuclear\", \"first\", \"building\", \"injury\", \"flood\", \"man\", \"last\", \"burning\", \"know\", \"want\", \"need\", \"two\", \"way\"], \"Total\": [283.0, 273.0, 245.0, 205.0, 191.0, 172.0, 165.0, 175.0, 175.0, 172.0, 146.0, 145.0, 152.0, 122.0, 119.0, 116.0, 126.0, 126.0, 113.0, 111.0, 109.0, 118.0, 110.0, 110.0, 99.0, 98.0, 98.0, 107.0, 97.0, 95.0, 245.4379187184917, 172.36468847362195, 191.4063395447096, 175.80021354457006, 175.375879348464, 152.26981607418475, 126.37977563066515, 118.77640013190037, 126.86280046868323, 110.84728805286001, 102.31809462130904, 95.39337600711282, 110.5149178194459, 103.02794133392682, 98.31841366453362, 98.33771840787452, 99.2219770277603, 91.78154819877305, 94.06419230973893, 88.47792446498316, 96.30794788199907, 107.6858459544508, 80.8104854634605, 81.61870163918503, 89.54832053433549, 85.5309404837476, 76.05421141869103, 85.44195680484138, 78.30259895599828, 83.88456171044784, 78.67459896828706, 283.0789396791133, 273.4650901687134, 205.41308348701054, 172.69285076581863, 165.2690292896324, 145.64972252927797, 146.39893527019888, 122.15881281880672, 116.21709419838722, 119.6472787896871, 113.05598698064011, 111.10967264304423, 109.3099265770055, 95.61222498076704, 98.34639762676564, 99.96676905196675, 92.96270807026217, 94.29919511239383, 98.07819828578225, 97.37733689592696, 84.65864562920326, 87.36359534390117, 87.27380742515754, 84.17072173995663, 80.80028585773327, 76.05640077105619, 93.08417649860212, 80.28430924709666, 88.16670626736786, 83.72644726812715, 78.94103967176136], \"loglift\": [30.0, 29.0, 28.0, 27.0, 26.0, 25.0, 24.0, 23.0, 22.0, 21.0, 20.0, 19.0, 18.0, 17.0, 16.0, 15.0, 14.0, 13.0, 12.0, 11.0, 10.0, 9.0, 8.0, 7.0, 6.0, 5.0, 4.0, 3.0, 2.0, 1.0, 0.6627, 0.662, 0.662, 0.6619, 0.6615, 0.6611, 0.6606, 0.6606, 0.6602, 0.66, 0.6598, 0.6597, 0.6596, 0.6593, 0.6593, 0.6589, 0.6589, 0.6588, 0.6588, 0.6587, 0.6587, 0.6586, 0.6583, 0.6583, 0.6581, 0.6579, 0.6578, 0.6576, 0.6575, 0.6573, 0.6573, 0.7196, 0.7195, 0.7188, 0.7182, 0.718, 0.7178, 0.7177, 0.7168, 0.7168, 0.7165, 0.7165, 0.7165, 0.7165, 0.7161, 0.7158, 0.7157, 0.7156, 0.7153, 0.7153, 0.7153, 0.7152, 0.7149, 0.7148, 0.7147, 0.7146, 0.7145, 0.7145, 0.7144, 0.7143, 0.7142, 0.7138], \"logprob\": [30.0, 29.0, 28.0, 27.0, 26.0, 25.0, 24.0, 23.0, 22.0, 21.0, 20.0, 19.0, 18.0, 17.0, 16.0, 15.0, 14.0, 13.0, 12.0, 11.0, 10.0, 9.0, 8.0, 7.0, 6.0, 5.0, 4.0, 3.0, 2.0, 1.0, -2.8599, -3.2141, -3.1093, -3.1945, -3.1973, -3.339, -3.5258, -3.5879, -3.5224, -3.6576, -3.7378, -3.808, -3.661, -3.7314, -3.7782, -3.7784, -3.7694, -3.8474, -3.8229, -3.8842, -3.7995, -3.6879, -3.9753, -3.9653, -3.8728, -3.9189, -4.0365, -3.9203, -4.0076, -3.9389, -4.0031, -2.6603, -2.695, -2.9819, -3.156, -3.2001, -3.3267, -3.3217, -3.5036, -3.5535, -3.5246, -3.5813, -3.5987, -3.6151, -3.7493, -3.7214, -3.7051, -3.778, -3.7639, -3.7246, -3.7318, -3.8719, -3.8408, -3.8418, -3.8782, -3.9192, -3.9797, -3.7777, -3.9257, -3.8321, -3.8839, -3.9432]}, \"token.table\": {\"Topic\": [1, 2, 1, 2, 1, 2, 1, 2, 1, 2, 1, 2, 1, 2, 1, 2, 1, 2, 1, 2, 1, 2, 1, 2, 1, 2, 1, 2, 1, 2, 1, 2, 1, 2, 1, 2, 1, 2, 1, 2, 1, 2, 1, 2, 1, 2, 1, 2, 1, 2, 1, 2, 1, 2, 1, 2, 1, 2, 1, 2, 1, 2, 1, 2, 1, 2, 1, 2, 1, 2, 1, 2, 1, 2, 1, 2, 1, 2, 1, 2, 1, 2, 1, 2, 1, 2, 1, 2, 1, 2, 1, 2, 1, 2, 1, 2, 1, 2, 1, 2, 1, 2, 1, 2, 1, 2, 1, 2, 1, 2, 1, 2, 1, 2, 1, 2, 1, 2, 1, 2, 1, 2, 1, 2], \"Freq\": [0.9982157658409988, 0.004074350064657138, 0.9958762754440781, 0.010482908162569244, 0.010757001605893298, 0.9896441477421835, 0.9886865311484874, 0.010631037969338574, 0.9899705408424138, 0.012374631760530172, 0.01181214266502566, 0.9922199838621555, 0.013148137301555785, 0.9992584349182396, 0.010458913598142454, 0.9935967918235331, 0.994827403053855, 0.011703851800633587, 0.9968911205541273, 0.009773442358373798, 0.993631048274061, 0.009286271479196832, 0.9861386845116648, 0.013148515793488863, 0.9914846914863493, 0.010895436170179663, 0.00914829998806678, 0.997164698699279, 0.9969949651455703, 0.007912658453536272, 0.003532583529998943, 0.9997211389897009, 0.010269329927031794, 0.996125002922084, 0.011458191518200454, 0.9968626620834395, 0.004868239077201895, 0.9979890108263885, 0.008845175091622894, 0.990659610261764, 0.9938768194527418, 0.011167155274749907, 0.010003324199466323, 0.9903290957471659, 0.008604586157462861, 0.9981319942656919, 0.9978770841881406, 0.00522448735177037, 0.011446415364014775, 0.9958381366692854, 0.010742964460936252, 0.9883527304061351, 0.012376193838728747, 0.9900955070982997, 0.9965657286609624, 0.01016903804756084, 0.0036567738843120826, 0.9982992704171986, 0.010604544384584774, 0.9968271721509688, 0.010168140614515434, 0.9964777802225125, 0.9900226936439006, 0.009706104839646085, 0.011880615721574485, 0.9979717206122567, 0.9914254539948912, 0.012710582743524247, 0.011342149915042461, 0.9981091925237366, 0.995448165116323, 0.0056882752292361305, 0.005790627669677288, 0.9959879591844936, 0.010195945862363618, 0.989006748649271, 0.006050740446036683, 0.9983721735960527, 0.9982280396657648, 0.00656728973464319, 0.992356258166136, 0.009021420528783056, 0.009000116517421877, 0.9990129334338282, 0.9953407392449303, 0.009048552174953912, 0.9977628239790244, 0.010078412363424489, 0.9968024665796391, 0.01038335902687124, 0.006830650770474293, 0.9972750124892467, 0.9934633468345716, 0.008419180905377726, 0.9945983761726654, 0.01130225427468938, 0.9894550118351794, 0.011921144720905776, 0.9931989482693454, 0.007882531335470995, 0.9961355183604018, 0.012770968184107716, 0.011943657382207814, 0.9913235627232485, 0.9978567215180307, 0.005702038408674462, 0.9978842042598663, 0.0058016523503480605, 0.006865787195708414, 0.9955391433777201, 0.012455733995571037, 0.996458719645683, 0.01266768216073696, 0.9880792085374829, 0.9937924161625642, 0.011691675484265461, 0.9924196093939334, 0.01225209394313498, 0.9967614035594587, 0.010171034730198559, 0.008186065146877778, 0.9986999479190889, 0.008357900071908649, 0.9945901085571291], \"Term\": [\"amp\", \"amp\", \"attack\", \"attack\", \"back\", \"back\", \"body\", \"body\", \"bomb\", \"bomb\", \"building\", \"building\", \"burning\", \"burning\", \"california\", \"california\", \"car\", \"car\", \"crash\", \"crash\", \"day\", \"day\", \"dead\", \"dead\", \"death\", \"death\", \"disaster\", \"disaster\", \"emergency\", \"emergency\", \"fire\", \"fire\", \"first\", \"first\", \"flood\", \"flood\", \"get\", \"get\", \"go\", \"go\", \"going\", \"going\", \"got\", \"got\", \"home\", \"home\", \"i'm\", \"i'm\", \"injury\", \"injury\", \"know\", \"know\", \"last\", \"last\", \"life\", \"life\", \"like\", \"like\", \"look\", \"look\", \"love\", \"love\", \"make\", \"make\", \"man\", \"man\", \"mass\", \"mass\", \"need\", \"need\", \"new\", \"new\", \"news\", \"news\", \"nuclear\", \"nuclear\", \"one\", \"one\", \"people\", \"people\", \"police\", \"police\", \"rt\", \"rt\", \"say\", \"say\", \"see\", \"see\", \"still\", \"still\", \"storm\", \"storm\", \"suicide\", \"suicide\", \"take\", \"take\", \"think\", \"think\", \"time\", \"time\", \"train\", \"train\", \"two\", \"two\", \"u\", \"u\", \"via\", \"via\", \"video\", \"video\", \"want\", \"want\", \"way\", \"way\", \"weapon\", \"weapon\", \"woman\", \"woman\", \"world\", \"world\", \"would\", \"would\", \"year\", \"year\"]}, \"R\": 30, \"lambda.step\": 0.01, \"plot.opts\": {\"xlab\": \"PC1\", \"ylab\": \"PC2\"}, \"topic.order\": [2, 1]};\n",
       "\n",
       "function LDAvis_load_lib(url, callback){\n",
       "  var s = document.createElement('script');\n",
       "  s.src = url;\n",
       "  s.async = true;\n",
       "  s.onreadystatechange = s.onload = callback;\n",
       "  s.onerror = function(){console.warn(\"failed to load library \" + url);};\n",
       "  document.getElementsByTagName(\"head\")[0].appendChild(s);\n",
       "}\n",
       "\n",
       "if(typeof(LDAvis) !== \"undefined\"){\n",
       "   // already loaded: just create the visualization\n",
       "   !function(LDAvis){\n",
       "       new LDAvis(\"#\" + \"ldavis_el12367629832040863126540175408\", ldavis_el12367629832040863126540175408_data);\n",
       "   }(LDAvis);\n",
       "}else if(typeof define === \"function\" && define.amd){\n",
       "   // require.js is available: use it to load d3/LDAvis\n",
       "   require.config({paths: {d3: \"https://cdnjs.cloudflare.com/ajax/libs/d3/3.5.5/d3.min\"}});\n",
       "   require([\"d3\"], function(d3){\n",
       "      window.d3 = d3;\n",
       "      LDAvis_load_lib(\"https://cdn.rawgit.com/bmabey/pyLDAvis/files/ldavis.v1.0.0.js\", function(){\n",
       "        new LDAvis(\"#\" + \"ldavis_el12367629832040863126540175408\", ldavis_el12367629832040863126540175408_data);\n",
       "      });\n",
       "    });\n",
       "}else{\n",
       "    // require.js not available: dynamically load d3 & LDAvis\n",
       "    LDAvis_load_lib(\"https://cdnjs.cloudflare.com/ajax/libs/d3/3.5.5/d3.min.js\", function(){\n",
       "         LDAvis_load_lib(\"https://cdn.rawgit.com/bmabey/pyLDAvis/files/ldavis.v1.0.0.js\", function(){\n",
       "                 new LDAvis(\"#\" + \"ldavis_el12367629832040863126540175408\", ldavis_el12367629832040863126540175408_data);\n",
       "            })\n",
       "         });\n",
       "}\n",
       "</script>"
      ],
      "text/plain": [
       "PreparedData(topic_coordinates=           Freq  cluster  topics         x    y\n",
       "topic                                          \n",
       "1      51.40349        1       1  0.329088  0.0\n",
       "0      48.59651        1       2 -0.329088  0.0, topic_info=     Category        Freq        Term       Total  loglift  logprob\n",
       "term                                                               \n",
       "20    Default  283.000000        fire  283.000000  30.0000  30.0000\n",
       "38    Default  273.000000        like  273.000000  29.0000  29.0000\n",
       "1     Default  245.000000         amp  245.000000  28.0000  28.0000\n",
       "24    Default  205.000000         get  205.000000  27.0000  27.0000\n",
       "32    Default  191.000000         i'm  191.000000  26.0000  26.0000\n",
       "47    Default  172.000000        news  172.000000  25.0000  25.0000\n",
       "49    Default  165.000000         one  165.000000  24.0000  24.0000\n",
       "46    Default  175.000000         new  175.000000  23.0000  23.0000\n",
       "66    Default  175.000000           u  175.000000  22.0000  22.0000\n",
       "67    Default  172.000000         via  172.000000  21.0000  21.0000\n",
       "58    Default  146.000000       storm  146.000000  20.0000  20.0000\n",
       "68    Default  145.000000       video  145.000000  19.0000  19.0000\n",
       "50    Default  152.000000      people  152.000000  18.0000  18.0000\n",
       "76    Default  122.000000       would  122.000000  17.0000  17.0000\n",
       "77    Default  119.000000        year  119.000000  16.0000  16.0000\n",
       "30    Default  116.000000        home  116.000000  15.0000  15.0000\n",
       "62    Default  126.000000        time  126.000000  14.0000  14.0000\n",
       "18    Default  126.000000   emergency  126.000000  13.0000  13.0000\n",
       "25    Default  113.000000          go  113.000000  12.0000  12.0000\n",
       "53    Default  111.000000          rt  111.000000  11.0000  11.0000\n",
       "17    Default  109.000000    disaster  109.000000  10.0000  10.0000\n",
       "59    Default  118.000000     suicide  118.000000   9.0000   9.0000\n",
       "51    Default  110.000000      police  110.000000   8.0000   8.0000\n",
       "54    Default  110.000000         say  110.000000   7.0000   7.0000\n",
       "28    Default   99.000000         got   99.000000   6.0000   6.0000\n",
       "40    Default   98.000000        love   98.000000   5.0000   5.0000\n",
       "48    Default   98.000000     nuclear   98.000000   4.0000   4.0000\n",
       "14    Default  107.000000         day  107.000000   3.0000   3.0000\n",
       "21    Default   97.000000       first   97.000000   2.0000   2.0000\n",
       "8     Default   95.000000  california   95.000000   1.0000   1.0000\n",
       "...       ...         ...         ...         ...      ...      ...\n",
       "38     Topic2  272.887655        like  273.465090   0.7195  -2.6950\n",
       "24     Topic2  204.837668         get  205.413083   0.7188  -2.9819\n",
       "47     Topic2  172.110746        news  172.692851   0.7182  -3.1560\n",
       "49     Topic2  164.675983         one  165.269029   0.7180  -3.2001\n",
       "68     Topic2  145.096986       video  145.649723   0.7178  -3.3267\n",
       "58     Topic2  145.828532       storm  146.398935   0.7177  -3.3217\n",
       "76     Topic2  121.572046       would  122.158813   0.7168  -3.5036\n",
       "30     Topic2  115.655625        home  116.217094   0.7168  -3.5535\n",
       "77     Topic2  119.040421        year  119.647279   0.7165  -3.5246\n",
       "25     Topic2  112.482222          go  113.055987   0.7165  -3.5813\n",
       "53     Topic2  110.545050          rt  111.109673   0.7165  -3.5987\n",
       "17     Topic2  108.747378    disaster  109.309927   0.7165  -3.6151\n",
       "8      Topic2   95.082308  california   95.612225   0.7161  -3.7493\n",
       "40     Topic2   97.779037        love   98.346398   0.7158  -3.7214\n",
       "28     Topic2   99.381372         got   99.966769   0.7157  -3.7051\n",
       "3      Topic2   92.400736        back   92.962708   0.7156  -3.7780\n",
       "39     Topic2   93.708789        look   94.299195   0.7153  -3.7639\n",
       "48     Topic2   97.463924     nuclear   98.078198   0.7153  -3.7246\n",
       "21     Topic2   96.766341       first   97.377337   0.7153  -3.7318\n",
       "6      Topic2   84.119316    building   84.658646   0.7152  -3.8719\n",
       "33     Topic2   86.775283      injury   87.363595   0.7149  -3.8408\n",
       "22     Topic2   86.682100       flood   87.273807   0.7148  -3.8418\n",
       "42     Topic2   83.587209         man   84.170722   0.7147  -3.8782\n",
       "36     Topic2   80.233262        last   80.800286   0.7146  -3.9192\n",
       "7      Topic2   75.516808     burning   76.056401   0.7145  -3.9797\n",
       "35     Topic2   92.423666        know   93.084176   0.7145  -3.7777\n",
       "70     Topic2   79.706271        want   80.284309   0.7144  -3.9257\n",
       "44     Topic2   87.527966        need   88.166706   0.7143  -3.8321\n",
       "65     Topic2   83.109853         two   83.726447   0.7142  -3.8839\n",
       "72     Topic2   78.327407         way   78.941040   0.7138  -3.9432\n",
       "\n",
       "[92 rows x 6 columns], token_table=      Topic      Freq        Term\n",
       "term                             \n",
       "1         1  0.998216         amp\n",
       "1         2  0.004074         amp\n",
       "2         1  0.995876      attack\n",
       "2         2  0.010483      attack\n",
       "3         1  0.010757        back\n",
       "3         2  0.989644        back\n",
       "4         1  0.988687        body\n",
       "4         2  0.010631        body\n",
       "5         1  0.989971        bomb\n",
       "5         2  0.012375        bomb\n",
       "6         1  0.011812    building\n",
       "6         2  0.992220    building\n",
       "7         1  0.013148     burning\n",
       "7         2  0.999258     burning\n",
       "8         1  0.010459  california\n",
       "8         2  0.993597  california\n",
       "10        1  0.994827         car\n",
       "10        2  0.011704         car\n",
       "13        1  0.996891       crash\n",
       "13        2  0.009773       crash\n",
       "14        1  0.993631         day\n",
       "14        2  0.009286         day\n",
       "15        1  0.986139        dead\n",
       "15        2  0.013149        dead\n",
       "16        1  0.991485       death\n",
       "16        2  0.010895       death\n",
       "17        1  0.009148    disaster\n",
       "17        2  0.997165    disaster\n",
       "18        1  0.996995   emergency\n",
       "18        2  0.007913   emergency\n",
       "...     ...       ...         ...\n",
       "60        1  0.994598        take\n",
       "60        2  0.011302        take\n",
       "61        1  0.989455       think\n",
       "61        2  0.011921       think\n",
       "62        1  0.993199        time\n",
       "62        2  0.007883        time\n",
       "64        1  0.996136       train\n",
       "64        2  0.012771       train\n",
       "65        1  0.011944         two\n",
       "65        2  0.991324         two\n",
       "66        1  0.997857           u\n",
       "66        2  0.005702           u\n",
       "67        1  0.997884         via\n",
       "67        2  0.005802         via\n",
       "68        1  0.006866       video\n",
       "68        2  0.995539       video\n",
       "70        1  0.012456        want\n",
       "70        2  0.996459        want\n",
       "72        1  0.012668         way\n",
       "72        2  0.988079         way\n",
       "73        1  0.993792      weapon\n",
       "73        2  0.011692      weapon\n",
       "74        1  0.992420       woman\n",
       "74        2  0.012252       woman\n",
       "75        1  0.996761       world\n",
       "75        2  0.010171       world\n",
       "76        1  0.008186       would\n",
       "76        2  0.998700       would\n",
       "77        1  0.008358        year\n",
       "77        2  0.994590        year\n",
       "\n",
       "[124 rows x 3 columns], R=30, lambda_step=0.01, plot_opts={'xlab': 'PC1', 'ylab': 'PC2'}, topic_order=[2, 1])"
      ]
     },
     "execution_count": 37,
     "metadata": {},
     "output_type": "execute_result"
    }
   ],
   "source": [
    "pyLDAvis.sklearn.prepare(lda_model,tfidf_matrix, tfidf_vectorizer)"
   ]
  },
  {
   "cell_type": "code",
   "execution_count": null,
   "metadata": {},
   "outputs": [],
   "source": []
  }
 ],
 "metadata": {
  "kernelspec": {
   "display_name": "Python 3",
   "language": "python",
   "name": "python3"
  },
  "language_info": {
   "codemirror_mode": {
    "name": "ipython",
    "version": 3
   },
   "file_extension": ".py",
   "mimetype": "text/x-python",
   "name": "python",
   "nbconvert_exporter": "python",
   "pygments_lexer": "ipython3",
   "version": "3.6.4"
  }
 },
 "nbformat": 4,
 "nbformat_minor": 2
}
